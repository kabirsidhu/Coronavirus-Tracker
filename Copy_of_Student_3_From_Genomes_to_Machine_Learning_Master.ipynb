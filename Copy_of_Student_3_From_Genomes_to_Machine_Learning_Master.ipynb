{
  "nbformat": 4,
  "nbformat_minor": 0,
  "metadata": {
    "colab": {
      "provenance": [],
      "include_colab_link": true
    },
    "kernelspec": {
      "name": "python3",
      "display_name": "Python 3"
    }
  },
  "cells": [
    {
      "cell_type": "markdown",
      "metadata": {
        "id": "view-in-github",
        "colab_type": "text"
      },
      "source": [
        "<a href=\"https://colab.research.google.com/github/kabirsidhu/Coronavirus-Tracker/blob/main/Copy_of_Student_3_From_Genomes_to_Machine_Learning_Master.ipynb\" target=\"_parent\"><img src=\"https://colab.research.google.com/assets/colab-badge.svg\" alt=\"Open In Colab\"/></a>"
      ]
    },
    {
      "cell_type": "markdown",
      "metadata": {
        "id": "i46RCXx_hCk9"
      },
      "source": [
        "# Goals"
      ]
    },
    {
      "cell_type": "markdown",
      "metadata": {
        "id": "C0doqIOEhJBC"
      },
      "source": [
        "In this colab, you will:\n",
        "*   Learn how to clean up and preprocess genome data\n",
        "*   Convert genomic data into a feature matrix\n",
        "*   Build a logistic regression model predicting the country a SARS-CoV-2 lineage came from based on its genome\n",
        "\n",
        "\n",
        "\n"
      ]
    },
    {
      "cell_type": "code",
      "metadata": {
        "id": "9VJHN3yph4Uy",
        "colab": {
          "base_uri": "https://localhost:8080/"
        },
        "outputId": "919e1dd5-53d1-4fa1-a5ab-e3923626c2d2"
      },
      "source": [
        "#@title Set up the notebook\n",
        "!pip install Biopython\n",
        "from Bio import SeqIO\n",
        "import numpy as np\n",
        "import pandas as pd\n",
        "import tqdm\n",
        "import matplotlib.pyplot as plt\n",
        "import seaborn as sns\n",
        "from sklearn.metrics import confusion_matrix\n",
        "from collections import Counter\n",
        "from sklearn import model_selection, linear_model\n",
        "\n",
        "# import gdown\n",
        "# data_path = 'https://drive.google.com/uc?id=1f1CtRwSohB7uaAypn8iA4oqdXlD_xXL1'\n",
        "# cov2_sequences = 'SARS_CoV_2_sequences_global.fasta'\n",
        "# gdown.download(data_path, cov2_sequences, True)\n",
        "\n",
        "!wget 'https://storage.googleapis.com/inspirit-ai-data-bucket-1/Data/AI%20Scholars/Sessions%206%20-%2010%20(Projects)/Project%20-%20DNA%20Detectives/SARS_CoV_2_sequences_global.fasta'\n",
        "cov2_sequences = 'SARS_CoV_2_sequences_global.fasta'\n"
      ],
      "execution_count": null,
      "outputs": [
        {
          "output_type": "stream",
          "text": [
            "Collecting Biopython\n",
            "\u001b[?25l  Downloading https://files.pythonhosted.org/packages/5a/42/de1ed545df624180b84c613e5e4de4848f72989ce5846a74af6baa0737b9/biopython-1.79-cp37-cp37m-manylinux_2_5_x86_64.manylinux1_x86_64.whl (2.3MB)\n",
            "\u001b[K     |████████████████████████████████| 2.3MB 4.1MB/s \n",
            "\u001b[?25hRequirement already satisfied: numpy in /usr/local/lib/python3.7/dist-packages (from Biopython) (1.19.5)\n",
            "Installing collected packages: Biopython\n",
            "Successfully installed Biopython-1.79\n",
            "--2021-07-14 15:47:11--  https://storage.googleapis.com/inspirit-ai-data-bucket-1/Data/AI%20Scholars/Sessions%206%20-%2010%20(Projects)/Project%20-%20DNA%20Detectives/SARS_CoV_2_sequences_global.fasta\n",
            "Resolving storage.googleapis.com (storage.googleapis.com)... 108.177.97.128, 142.251.8.128, 74.125.23.128, ...\n",
            "Connecting to storage.googleapis.com (storage.googleapis.com)|108.177.97.128|:443... connected.\n",
            "HTTP request sent, awaiting response... 200 OK\n",
            "Length: 46950263 (45M) [application/octet-stream]\n",
            "Saving to: ‘SARS_CoV_2_sequences_global.fasta’\n",
            "\n",
            "SARS_CoV_2_sequence 100%[===================>]  44.77M   202MB/s    in 0.2s    \n",
            "\n",
            "2021-07-14 15:47:11 (202 MB/s) - ‘SARS_CoV_2_sequences_global.fasta’ saved [46950263/46950263]\n",
            "\n"
          ],
          "name": "stdout"
        }
      ]
    },
    {
      "cell_type": "markdown",
      "metadata": {
        "id": "8GVs1Qd_iMF3"
      },
      "source": [
        "# Data preprocessing"
      ]
    },
    {
      "cell_type": "markdown",
      "metadata": {
        "id": "IPVl67ETxHK5"
      },
      "source": [
        "## Read in and examine the data."
      ]
    },
    {
      "cell_type": "markdown",
      "metadata": {
        "id": "R4jSF-_jw3oz"
      },
      "source": [
        "We are going to read in a set of SARS-CoV-2 genomes from around the world. Note that sequence #0 is the \"reference sequence\"-- one of the original sequences from Wuhan. These global sequences come from the [NCBI database](https://www.ncbi.nlm.nih.gov/labs/virus/vssi/#/virus?SeqType_s=Nucleotide&VirusLineage_ss=SARS-CoV-2,%20taxid:2697049&SLen_i=29000%20TO%2031000&Completeness_s=complete&HostLineage_ss=Homo%20sapiens%20(human),%20taxid:9606).  You can examine the different sequences using the form below."
      ]
    },
    {
      "cell_type": "code",
      "metadata": {
        "id": "dvPJa6Gegnjw",
        "colab": {
          "base_uri": "https://localhost:8080/"
        },
        "outputId": "de9658ab-dfb6-46e8-f29d-74d06d76be3d"
      },
      "source": [
        "sequences = [r for r in SeqIO.parse(cov2_sequences, 'fasta')]\n",
        "sequence_num =  200#@param {type:\"integer\"}\n",
        "print(sequences[sequence_num])"
      ],
      "execution_count": null,
      "outputs": [
        {
          "output_type": "stream",
          "text": [
            "ID: MT451244\n",
            "Name: MT451244\n",
            "Description: MT451244 |Severe acute respiratory syndrome coronavirus 2 isolate SARS-CoV-2/human/AUS/VIC353/2020| complete genome|Australia\n",
            "Number of features: 0\n",
            "Seq('--------------------------------------ACTTTCGATCTCTTGT...---')\n"
          ],
          "name": "stdout"
        }
      ]
    },
    {
      "cell_type": "markdown",
      "metadata": {
        "id": "crQdJz8Yyz5t"
      },
      "source": [
        "###**Exercise: How many sequences are there?**\n",
        "\n",
        "Note: Sequences have been uploaded/stored in a variable called ```sequences```."
      ]
    },
    {
      "cell_type": "code",
      "metadata": {
        "id": "2L6mli7Gyz5u",
        "colab": {
          "base_uri": "https://localhost:8080/",
          "height": 197
        },
        "outputId": "5b8eee4f-63f2-4e7a-87b3-6527c7014606"
      },
      "source": [
        "n_sequences = len(sequences)\n",
        "print(\"There are %f sequences\" % n_sequences)"
      ],
      "execution_count": null,
      "outputs": [
        {
          "output_type": "error",
          "ename": "NameError",
          "evalue": "ignored",
          "traceback": [
            "\u001b[0;31m---------------------------------------------------------------------------\u001b[0m",
            "\u001b[0;31mNameError\u001b[0m                                 Traceback (most recent call last)",
            "\u001b[0;32m<ipython-input-1-d8d3b9a86576>\u001b[0m in \u001b[0;36m<cell line: 1>\u001b[0;34m()\u001b[0m\n\u001b[0;32m----> 1\u001b[0;31m \u001b[0mn_sequences\u001b[0m \u001b[0;34m=\u001b[0m \u001b[0mlen\u001b[0m\u001b[0;34m(\u001b[0m\u001b[0msequences\u001b[0m\u001b[0;34m)\u001b[0m\u001b[0;34m\u001b[0m\u001b[0;34m\u001b[0m\u001b[0m\n\u001b[0m\u001b[1;32m      2\u001b[0m \u001b[0mprint\u001b[0m\u001b[0;34m(\u001b[0m\u001b[0;34m\"There are %f sequences\"\u001b[0m \u001b[0;34m%\u001b[0m \u001b[0mn_sequences\u001b[0m\u001b[0;34m)\u001b[0m\u001b[0;34m\u001b[0m\u001b[0;34m\u001b[0m\u001b[0m\n",
            "\u001b[0;31mNameError\u001b[0m: name 'sequences' is not defined"
          ]
        }
      ]
    },
    {
      "cell_type": "markdown",
      "metadata": {
        "id": "B6cnVm9ExOGu"
      },
      "source": [
        "###**Exercise: How different are the 1st (non-reference) and 10th SARS-CoV-2 sequences?**\n",
        "\n"
      ]
    },
    {
      "cell_type": "code",
      "metadata": {
        "id": "zkwJlRubxicM",
        "colab": {
          "base_uri": "https://localhost:8080/"
        },
        "outputId": "7564bdcf-2dcd-4d35-c998-b0f04b206a8b"
      },
      "source": [
        "sequence_1 = np.array(sequences[0])\n",
        "sequence_10 = np.array(sequences[9])\n",
        "percent_similarity =  (sum(sequence_1 == sequence_10) / len(sequence_10)) * 100\n",
        "print(\"Sequence 1 and 10 similarity: %\", percent_similarity)"
      ],
      "execution_count": null,
      "outputs": [
        {
          "output_type": "stream",
          "text": [
            "Sequence 1 and 10 similarity: % 99.9765909774939\n"
          ],
          "name": "stdout"
        }
      ]
    },
    {
      "cell_type": "markdown",
      "metadata": {
        "id": "ZHqVhusUxJj6"
      },
      "source": [
        "### **Exercise (BONUS):  Make a histogram of the number of mutations each SARS-CoV-2 sequence has compared to the reference genome.**"
      ]
    },
    {
      "cell_type": "code",
      "metadata": {
        "id": "CPF5jWPexNmY",
        "colab": {
          "base_uri": "https://localhost:8080/",
          "height": 279
        },
        "outputId": "290197ff-c6c0-4c78-bc55-0ceb9d69b276"
      },
      "source": [
        "reference = np.array(sequences[0])\n",
        "mutations_per_seq = 10\n",
        "sequences_per_seq = 10\n",
        "plt.hist(sequences_per_seq)\n",
        "plt.hist(mutations_per_seq)\n",
        "plt.xlabel('# mutations')\n",
        "plt.ylabel('# sequences')\n",
        "plt.show()"
      ],
      "execution_count": null,
      "outputs": [
        {
          "output_type": "display_data",
          "data": {
            "image/png": "[encoded data removed]",
            "text/plain": [
              "<Figure size 432x288 with 1 Axes>"
            ]
          },
          "metadata": {
            "tags": [],
            "needs_background": "light"
          }
        }
      ]
    },
    {
      "cell_type": "markdown",
      "metadata": {
        "id": "ZqgCNKdJ2O4l"
      },
      "source": [
        "Interestingly, it looks like there are a couple sequences with a LOT of mutations! We can investigate these sequences a little more.\n",
        "\n",
        "**Examine some of these sequences with high number of mutations by selecting the minimum # of mutations from the form below. What do you notice about the sequences? Discuss with your instructor and peers.**\n",
        "\n"
      ]
    },
    {
      "cell_type": "code",
      "metadata": {
        "id": "S9VSB3eTzJT0",
        "colab": {
          "base_uri": "https://localhost:8080/",
          "height": 265
        },
        "outputId": "fdb6fa88-7aef-4edc-dafb-0108e9f68ac2"
      },
      "source": [
        "min_number_of_mutations  =  220#@param {type:\"integer\"}\n",
        "idx = np.random.choice(np.where(mutations_per_seq>min_number_of_mutations)[0])\n",
        "print(\"Sequence %i has > %.0f mutations! \\n\" % (idx, min_number_of_mutations))\n",
        "print(sequences[idx], '\\n')\n",
        "print(\"The sequence is composed of: \")\n",
        "Counter(np.array(sequences[idx]))"
      ],
      "execution_count": null,
      "outputs": [
        {
          "output_type": "error",
          "ename": "ValueError",
          "evalue": "ignored",
          "traceback": [
            "\u001b[0;31m---------------------------------------------------------------------------\u001b[0m",
            "\u001b[0;31mValueError\u001b[0m                                Traceback (most recent call last)",
            "\u001b[0;32m<ipython-input-12-2faf265c9e1e>\u001b[0m in \u001b[0;36m<module>\u001b[0;34m()\u001b[0m\n\u001b[1;32m      1\u001b[0m \u001b[0mmin_number_of_mutations\u001b[0m  \u001b[0;34m=\u001b[0m  \u001b[0;36m220\u001b[0m\u001b[0;31m#@param {type:\"integer\"}\u001b[0m\u001b[0;34m\u001b[0m\u001b[0;34m\u001b[0m\u001b[0m\n\u001b[0;32m----> 2\u001b[0;31m \u001b[0midx\u001b[0m \u001b[0;34m=\u001b[0m \u001b[0mnp\u001b[0m\u001b[0;34m.\u001b[0m\u001b[0mrandom\u001b[0m\u001b[0;34m.\u001b[0m\u001b[0mchoice\u001b[0m\u001b[0;34m(\u001b[0m\u001b[0mnp\u001b[0m\u001b[0;34m.\u001b[0m\u001b[0mwhere\u001b[0m\u001b[0;34m(\u001b[0m\u001b[0mmutations_per_seq\u001b[0m\u001b[0;34m>\u001b[0m\u001b[0mmin_number_of_mutations\u001b[0m\u001b[0;34m)\u001b[0m\u001b[0;34m[\u001b[0m\u001b[0;36m0\u001b[0m\u001b[0;34m]\u001b[0m\u001b[0;34m)\u001b[0m\u001b[0;34m\u001b[0m\u001b[0;34m\u001b[0m\u001b[0m\n\u001b[0m\u001b[1;32m      3\u001b[0m \u001b[0mprint\u001b[0m\u001b[0;34m(\u001b[0m\u001b[0;34m\"Sequence %i has > %.0f mutations! \\n\"\u001b[0m \u001b[0;34m%\u001b[0m \u001b[0;34m(\u001b[0m\u001b[0midx\u001b[0m\u001b[0;34m,\u001b[0m \u001b[0mmin_number_of_mutations\u001b[0m\u001b[0;34m)\u001b[0m\u001b[0;34m)\u001b[0m\u001b[0;34m\u001b[0m\u001b[0;34m\u001b[0m\u001b[0m\n\u001b[1;32m      4\u001b[0m \u001b[0mprint\u001b[0m\u001b[0;34m(\u001b[0m\u001b[0msequences\u001b[0m\u001b[0;34m[\u001b[0m\u001b[0midx\u001b[0m\u001b[0;34m]\u001b[0m\u001b[0;34m,\u001b[0m \u001b[0;34m'\\n'\u001b[0m\u001b[0;34m)\u001b[0m\u001b[0;34m\u001b[0m\u001b[0;34m\u001b[0m\u001b[0m\n\u001b[1;32m      5\u001b[0m \u001b[0mprint\u001b[0m\u001b[0;34m(\u001b[0m\u001b[0;34m\"The sequence is composed of: \"\u001b[0m\u001b[0;34m)\u001b[0m\u001b[0;34m\u001b[0m\u001b[0;34m\u001b[0m\u001b[0m\n",
            "\u001b[0;32mmtrand.pyx\u001b[0m in \u001b[0;36mnumpy.random.mtrand.RandomState.choice\u001b[0;34m()\u001b[0m\n",
            "\u001b[0;31mValueError\u001b[0m: 'a' cannot be empty unless no samples are taken"
          ]
        }
      ]
    },
    {
      "cell_type": "markdown",
      "metadata": {
        "id": "K3_3xSpe20IT"
      },
      "source": [
        "## Missing Data\n"
      ]
    },
    {
      "cell_type": "markdown",
      "metadata": {
        "id": "wgzI9GyD2h9b"
      },
      "source": [
        "It is hard to see, but some of the sequences have `N` in them. Run the cell below for an example\n",
        "\n",
        "### **Exercise: Calculate the number of sequences that have an ```N``` in them.**\n",
        "\n",
        "**What do you think ```N``` means?**"
      ]
    },
    {
      "cell_type": "code",
      "metadata": {
        "id": "eWw4fp1w3MRJ",
        "colab": {
          "base_uri": "https://localhost:8080/"
        },
        "outputId": "410c6e7e-116e-438f-e5af-9522250d3989"
      },
      "source": [
        "n_sequences_with_N = 0\n",
        "\n",
        "for i in range(0, len(sequences)):\n",
        "  if 'N' in sequences[i]:\n",
        "    n_sequences_with_N = n_sequences_with_N + 1\n",
        "\n",
        "print('%i sequences have at least 1 \"N\"!' % n_sequences_with_N)"
      ],
      "execution_count": null,
      "outputs": [
        {
          "output_type": "stream",
          "text": [
            "326 sequences have at least 1 \"N\"!\n"
          ],
          "name": "stdout"
        }
      ]
    },
    {
      "cell_type": "markdown",
      "metadata": {
        "id": "eno1YJJo2flS"
      },
      "source": [
        "\n",
        "`N` is not a nucleic acid- it just stands for \"missing\", or \"low quality\". \"Missing\" is different than ```_``` or a deletion. At the locations with ```N```, the sequencing machine had low quality data here, so it was unable to determine what base was at that location. We should remember this when we extact our features. Stay tuned for more on sequencing machines and how sequences are built in the bonus colab of this project!"
      ]
    },
    {
      "cell_type": "markdown",
      "metadata": {
        "id": "2Y4r8Qk64P1n"
      },
      "source": [
        "# Feature Extraction\n",
        "\n",
        "We are going to build a model that predicts the country a SARS-CoV-2 virus came from based on its genome."
      ]
    },
    {
      "cell_type": "markdown",
      "metadata": {
        "id": "eD96VzFr65jR"
      },
      "source": [
        "### **Exercise: Recall the structure of machine learning models.**\n",
        "**In general what two categories of data do we need to build a supervised machine learning model? What will we use for each category?**\n"
      ]
    },
    {
      "cell_type": "code",
      "metadata": {
        "id": "gVJga_xZ_MP4",
        "colab": {
          "base_uri": "https://localhost:8080/"
        },
        "outputId": "234316db-dd71-4bea-9302-e14e980e855b"
      },
      "source": [
        "_1_  =  'inputs' #@param {type:\"string\"}\n",
        "_2_  =  'labels' #@param {type:\"string\"}\n",
        "\n",
        "print('1. We need a set of FEATURES (X).\\n',\n",
        "      '  Our features will be the genomes of the different sequences.')\n",
        "print('2. We need LABElS (Y).\\n',\n",
        "      '  Our labels will be the country that each sequence came from.')\n"
      ],
      "execution_count": null,
      "outputs": [
        {
          "output_type": "stream",
          "text": [
            "1. We need a set of FEATURES (X).\n",
            "   Our features will be the genomes of the different sequences.\n",
            "2. We need LABElS (Y).\n",
            "   Our labels will be the country that each sequence came from.\n"
          ],
          "name": "stdout"
        }
      ]
    },
    {
      "cell_type": "markdown",
      "metadata": {
        "id": "KrHyaErMp9fB"
      },
      "source": [
        "**Question: How will we turn our features into a numeric matrix?**"
      ]
    },
    {
      "cell_type": "markdown",
      "metadata": {
        "id": "6A72g_7uSyVP"
      },
      "source": [
        "## Extract Features (X)"
      ]
    },
    {
      "cell_type": "markdown",
      "metadata": {
        "id": "I3ZU8b4fdXo6"
      },
      "source": [
        "Remember that our input must be a *numeric* matrix/table.\n",
        "We are going to create a matrix where our features are the presence/absence of a specific mutation (given by ```<location>```_```<base>```).  \n",
        "\n",
        "Our columns will be 1_A, 1_T, 3_G, 4_A, etc.\n",
        "\n",
        "\n",
        "| Sequence ID | 1_A | 1_C | 3_G | 4_A  | ...|\n",
        "|-------------|-----|-----|-----|------|----|\n",
        "|Sequence 1   |  1  |  0  |   1 |    0 |  0 |\n",
        "|Sequence 2   |  0  |  0  |   1 |    0 |  0 |\n",
        "|Sequence 3   |  1  |  0  |   0 |    0 |  0 |\n",
        "|Sequence 4   |  0  |  1  |   0 |    1 |  1 |\n",
        "|Sequence 5   |  1  |  0  |   0 |    0 |  1 |\n",
        "\n",
        "\n"
      ]
    },
    {
      "cell_type": "code",
      "metadata": {
        "id": "fTy_D41nBYe-",
        "colab": {
          "base_uri": "https://localhost:8080/",
          "height": 287
        },
        "outputId": "4a83ccda-020b-4b8a-b1dd-3ff97b743f52"
      },
      "source": [
        "# Note: This can take a couple minutes to run!\n",
        "# but we can monitor our progress using the tqdm library\n",
        "mutation_df = pd.DataFrame()\n",
        "n_bases_in_seq = len(sequences[0])\n",
        "\n",
        "# Iterate though all positions in this sequence.\n",
        "for location in tqdm.tqdm(range(n_bases_in_seq)): # tqdm is a nice library that prints our progress.\n",
        "  bases_at_location = np.array([s[location] for s in sequences])\n",
        "  # If there are no mutations at this position, move on.\n",
        "  if len(set(bases_at_location))==1: continue # If\n",
        "  for base in ['A', 'T', 'G', 'C', '-']:\n",
        "    feature_values = (bases_at_location==base)\n",
        "\n",
        "    # Set the values of any base that equals 'N' to np.nan.\n",
        "    feature_values[bases_at_location==['N']] = np.nan\n",
        "\n",
        "    # Convert from T/F to 0/1.\n",
        "    feature_values  = feature_values*1\n",
        "\n",
        "    # Make the column name look like <location>_<base> (1_A, 2_G, 3_A, etc.)\n",
        "    column_name = str(location) + '_' + base\n",
        "    mutation_df[column_name] = feature_values\n",
        "\n",
        "# Print the size of the feature matrix/table.\n",
        "n_rows = np.shape(mutation_df)[0]\n",
        "n_columns = np.shape(mutation_df)[1]\n",
        "print(\"Size of matrix: %i rows x %i columns\" %(n_rows, n_columns))\n",
        "\n",
        "# Check what the matrix looks like:\n",
        "mutation_df.tail()"
      ],
      "execution_count": null,
      "outputs": [
        {
          "output_type": "stream",
          "text": [
            "100%|██████████| 29903/29903 [01:30<00:00, 329.00it/s]\n"
          ],
          "name": "stderr"
        },
        {
          "output_type": "stream",
          "text": [
            "Size of matrix: 1538 rows x 12680 columns\n"
          ],
          "name": "stdout"
        },
        {
          "output_type": "execute_result",
          "data": {
            "text/html": [
              "<div>\n",
              "<style scoped>\n",
              "    .dataframe tbody tr th:only-of-type {\n",
              "        vertical-align: middle;\n",
              "    }\n",
              "\n",
              "    .dataframe tbody tr th {\n",
              "        vertical-align: top;\n",
              "    }\n",
              "\n",
              "    .dataframe thead th {\n",
              "        text-align: right;\n",
              "    }\n",
              "</style>\n",
              "<table border=\"1\" class=\"dataframe\">\n",
              "  <thead>\n",
              "    <tr style=\"text-align: right;\">\n",
              "      <th></th>\n",
              "      <th>0_A</th>\n",
              "      <th>0_T</th>\n",
              "      <th>0_G</th>\n",
              "      <th>0_C</th>\n",
              "      <th>0_-</th>\n",
              "      <th>1_A</th>\n",
              "      <th>1_T</th>\n",
              "      <th>1_G</th>\n",
              "      <th>1_C</th>\n",
              "      <th>1_-</th>\n",
              "      <th>2_A</th>\n",
              "      <th>2_T</th>\n",
              "      <th>2_G</th>\n",
              "      <th>2_C</th>\n",
              "      <th>2_-</th>\n",
              "      <th>3_A</th>\n",
              "      <th>3_T</th>\n",
              "      <th>3_G</th>\n",
              "      <th>3_C</th>\n",
              "      <th>3_-</th>\n",
              "      <th>4_A</th>\n",
              "      <th>4_T</th>\n",
              "      <th>4_G</th>\n",
              "      <th>4_C</th>\n",
              "      <th>4_-</th>\n",
              "      <th>5_A</th>\n",
              "      <th>5_T</th>\n",
              "      <th>5_G</th>\n",
              "      <th>5_C</th>\n",
              "      <th>5_-</th>\n",
              "      <th>6_A</th>\n",
              "      <th>6_T</th>\n",
              "      <th>6_G</th>\n",
              "      <th>6_C</th>\n",
              "      <th>6_-</th>\n",
              "      <th>7_A</th>\n",
              "      <th>7_T</th>\n",
              "      <th>7_G</th>\n",
              "      <th>7_C</th>\n",
              "      <th>7_-</th>\n",
              "      <th>...</th>\n",
              "      <th>29895_A</th>\n",
              "      <th>29895_T</th>\n",
              "      <th>29895_G</th>\n",
              "      <th>29895_C</th>\n",
              "      <th>29895_-</th>\n",
              "      <th>29896_A</th>\n",
              "      <th>29896_T</th>\n",
              "      <th>29896_G</th>\n",
              "      <th>29896_C</th>\n",
              "      <th>29896_-</th>\n",
              "      <th>29897_A</th>\n",
              "      <th>29897_T</th>\n",
              "      <th>29897_G</th>\n",
              "      <th>29897_C</th>\n",
              "      <th>29897_-</th>\n",
              "      <th>29898_A</th>\n",
              "      <th>29898_T</th>\n",
              "      <th>29898_G</th>\n",
              "      <th>29898_C</th>\n",
              "      <th>29898_-</th>\n",
              "      <th>29899_A</th>\n",
              "      <th>29899_T</th>\n",
              "      <th>29899_G</th>\n",
              "      <th>29899_C</th>\n",
              "      <th>29899_-</th>\n",
              "      <th>29900_A</th>\n",
              "      <th>29900_T</th>\n",
              "      <th>29900_G</th>\n",
              "      <th>29900_C</th>\n",
              "      <th>29900_-</th>\n",
              "      <th>29901_A</th>\n",
              "      <th>29901_T</th>\n",
              "      <th>29901_G</th>\n",
              "      <th>29901_C</th>\n",
              "      <th>29901_-</th>\n",
              "      <th>29902_A</th>\n",
              "      <th>29902_T</th>\n",
              "      <th>29902_G</th>\n",
              "      <th>29902_C</th>\n",
              "      <th>29902_-</th>\n",
              "    </tr>\n",
              "  </thead>\n",
              "  <tbody>\n",
              "    <tr>\n",
              "      <th>1533</th>\n",
              "      <td>0</td>\n",
              "      <td>0</td>\n",
              "      <td>0</td>\n",
              "      <td>0</td>\n",
              "      <td>1</td>\n",
              "      <td>0</td>\n",
              "      <td>1</td>\n",
              "      <td>0</td>\n",
              "      <td>0</td>\n",
              "      <td>0</td>\n",
              "      <td>0</td>\n",
              "      <td>1</td>\n",
              "      <td>0</td>\n",
              "      <td>0</td>\n",
              "      <td>0</td>\n",
              "      <td>1</td>\n",
              "      <td>0</td>\n",
              "      <td>0</td>\n",
              "      <td>0</td>\n",
              "      <td>0</td>\n",
              "      <td>1</td>\n",
              "      <td>0</td>\n",
              "      <td>0</td>\n",
              "      <td>0</td>\n",
              "      <td>0</td>\n",
              "      <td>1</td>\n",
              "      <td>0</td>\n",
              "      <td>0</td>\n",
              "      <td>0</td>\n",
              "      <td>0</td>\n",
              "      <td>0</td>\n",
              "      <td>0</td>\n",
              "      <td>1</td>\n",
              "      <td>0</td>\n",
              "      <td>0</td>\n",
              "      <td>0</td>\n",
              "      <td>0</td>\n",
              "      <td>1</td>\n",
              "      <td>0</td>\n",
              "      <td>0</td>\n",
              "      <td>...</td>\n",
              "      <td>0</td>\n",
              "      <td>0</td>\n",
              "      <td>0</td>\n",
              "      <td>0</td>\n",
              "      <td>1</td>\n",
              "      <td>0</td>\n",
              "      <td>0</td>\n",
              "      <td>0</td>\n",
              "      <td>0</td>\n",
              "      <td>1</td>\n",
              "      <td>0</td>\n",
              "      <td>0</td>\n",
              "      <td>0</td>\n",
              "      <td>0</td>\n",
              "      <td>1</td>\n",
              "      <td>0</td>\n",
              "      <td>0</td>\n",
              "      <td>0</td>\n",
              "      <td>0</td>\n",
              "      <td>1</td>\n",
              "      <td>0</td>\n",
              "      <td>0</td>\n",
              "      <td>0</td>\n",
              "      <td>0</td>\n",
              "      <td>1</td>\n",
              "      <td>0</td>\n",
              "      <td>0</td>\n",
              "      <td>0</td>\n",
              "      <td>0</td>\n",
              "      <td>1</td>\n",
              "      <td>0</td>\n",
              "      <td>0</td>\n",
              "      <td>0</td>\n",
              "      <td>0</td>\n",
              "      <td>1</td>\n",
              "      <td>0</td>\n",
              "      <td>0</td>\n",
              "      <td>0</td>\n",
              "      <td>0</td>\n",
              "      <td>1</td>\n",
              "    </tr>\n",
              "    <tr>\n",
              "      <th>1534</th>\n",
              "      <td>0</td>\n",
              "      <td>0</td>\n",
              "      <td>0</td>\n",
              "      <td>0</td>\n",
              "      <td>1</td>\n",
              "      <td>0</td>\n",
              "      <td>0</td>\n",
              "      <td>0</td>\n",
              "      <td>0</td>\n",
              "      <td>1</td>\n",
              "      <td>0</td>\n",
              "      <td>0</td>\n",
              "      <td>0</td>\n",
              "      <td>0</td>\n",
              "      <td>1</td>\n",
              "      <td>0</td>\n",
              "      <td>0</td>\n",
              "      <td>0</td>\n",
              "      <td>0</td>\n",
              "      <td>1</td>\n",
              "      <td>0</td>\n",
              "      <td>0</td>\n",
              "      <td>0</td>\n",
              "      <td>0</td>\n",
              "      <td>1</td>\n",
              "      <td>0</td>\n",
              "      <td>0</td>\n",
              "      <td>0</td>\n",
              "      <td>0</td>\n",
              "      <td>1</td>\n",
              "      <td>0</td>\n",
              "      <td>0</td>\n",
              "      <td>0</td>\n",
              "      <td>0</td>\n",
              "      <td>1</td>\n",
              "      <td>0</td>\n",
              "      <td>0</td>\n",
              "      <td>0</td>\n",
              "      <td>0</td>\n",
              "      <td>1</td>\n",
              "      <td>...</td>\n",
              "      <td>0</td>\n",
              "      <td>0</td>\n",
              "      <td>0</td>\n",
              "      <td>0</td>\n",
              "      <td>1</td>\n",
              "      <td>0</td>\n",
              "      <td>0</td>\n",
              "      <td>0</td>\n",
              "      <td>0</td>\n",
              "      <td>1</td>\n",
              "      <td>0</td>\n",
              "      <td>0</td>\n",
              "      <td>0</td>\n",
              "      <td>0</td>\n",
              "      <td>1</td>\n",
              "      <td>0</td>\n",
              "      <td>0</td>\n",
              "      <td>0</td>\n",
              "      <td>0</td>\n",
              "      <td>1</td>\n",
              "      <td>0</td>\n",
              "      <td>0</td>\n",
              "      <td>0</td>\n",
              "      <td>0</td>\n",
              "      <td>1</td>\n",
              "      <td>0</td>\n",
              "      <td>0</td>\n",
              "      <td>0</td>\n",
              "      <td>0</td>\n",
              "      <td>1</td>\n",
              "      <td>0</td>\n",
              "      <td>0</td>\n",
              "      <td>0</td>\n",
              "      <td>0</td>\n",
              "      <td>1</td>\n",
              "      <td>0</td>\n",
              "      <td>0</td>\n",
              "      <td>0</td>\n",
              "      <td>0</td>\n",
              "      <td>1</td>\n",
              "    </tr>\n",
              "    <tr>\n",
              "      <th>1535</th>\n",
              "      <td>0</td>\n",
              "      <td>0</td>\n",
              "      <td>0</td>\n",
              "      <td>0</td>\n",
              "      <td>1</td>\n",
              "      <td>0</td>\n",
              "      <td>0</td>\n",
              "      <td>0</td>\n",
              "      <td>0</td>\n",
              "      <td>1</td>\n",
              "      <td>0</td>\n",
              "      <td>0</td>\n",
              "      <td>0</td>\n",
              "      <td>0</td>\n",
              "      <td>1</td>\n",
              "      <td>0</td>\n",
              "      <td>0</td>\n",
              "      <td>0</td>\n",
              "      <td>0</td>\n",
              "      <td>1</td>\n",
              "      <td>0</td>\n",
              "      <td>0</td>\n",
              "      <td>0</td>\n",
              "      <td>0</td>\n",
              "      <td>1</td>\n",
              "      <td>0</td>\n",
              "      <td>0</td>\n",
              "      <td>0</td>\n",
              "      <td>0</td>\n",
              "      <td>1</td>\n",
              "      <td>0</td>\n",
              "      <td>0</td>\n",
              "      <td>0</td>\n",
              "      <td>0</td>\n",
              "      <td>1</td>\n",
              "      <td>0</td>\n",
              "      <td>0</td>\n",
              "      <td>0</td>\n",
              "      <td>0</td>\n",
              "      <td>1</td>\n",
              "      <td>...</td>\n",
              "      <td>0</td>\n",
              "      <td>0</td>\n",
              "      <td>0</td>\n",
              "      <td>0</td>\n",
              "      <td>1</td>\n",
              "      <td>0</td>\n",
              "      <td>0</td>\n",
              "      <td>0</td>\n",
              "      <td>0</td>\n",
              "      <td>1</td>\n",
              "      <td>0</td>\n",
              "      <td>0</td>\n",
              "      <td>0</td>\n",
              "      <td>0</td>\n",
              "      <td>1</td>\n",
              "      <td>0</td>\n",
              "      <td>0</td>\n",
              "      <td>0</td>\n",
              "      <td>0</td>\n",
              "      <td>1</td>\n",
              "      <td>0</td>\n",
              "      <td>0</td>\n",
              "      <td>0</td>\n",
              "      <td>0</td>\n",
              "      <td>1</td>\n",
              "      <td>0</td>\n",
              "      <td>0</td>\n",
              "      <td>0</td>\n",
              "      <td>0</td>\n",
              "      <td>1</td>\n",
              "      <td>0</td>\n",
              "      <td>0</td>\n",
              "      <td>0</td>\n",
              "      <td>0</td>\n",
              "      <td>1</td>\n",
              "      <td>0</td>\n",
              "      <td>0</td>\n",
              "      <td>0</td>\n",
              "      <td>0</td>\n",
              "      <td>1</td>\n",
              "    </tr>\n",
              "    <tr>\n",
              "      <th>1536</th>\n",
              "      <td>0</td>\n",
              "      <td>0</td>\n",
              "      <td>0</td>\n",
              "      <td>0</td>\n",
              "      <td>1</td>\n",
              "      <td>0</td>\n",
              "      <td>0</td>\n",
              "      <td>0</td>\n",
              "      <td>0</td>\n",
              "      <td>1</td>\n",
              "      <td>0</td>\n",
              "      <td>0</td>\n",
              "      <td>0</td>\n",
              "      <td>0</td>\n",
              "      <td>1</td>\n",
              "      <td>0</td>\n",
              "      <td>0</td>\n",
              "      <td>0</td>\n",
              "      <td>0</td>\n",
              "      <td>1</td>\n",
              "      <td>0</td>\n",
              "      <td>0</td>\n",
              "      <td>0</td>\n",
              "      <td>0</td>\n",
              "      <td>1</td>\n",
              "      <td>0</td>\n",
              "      <td>0</td>\n",
              "      <td>0</td>\n",
              "      <td>0</td>\n",
              "      <td>1</td>\n",
              "      <td>0</td>\n",
              "      <td>0</td>\n",
              "      <td>0</td>\n",
              "      <td>0</td>\n",
              "      <td>1</td>\n",
              "      <td>0</td>\n",
              "      <td>0</td>\n",
              "      <td>0</td>\n",
              "      <td>0</td>\n",
              "      <td>1</td>\n",
              "      <td>...</td>\n",
              "      <td>1</td>\n",
              "      <td>0</td>\n",
              "      <td>0</td>\n",
              "      <td>0</td>\n",
              "      <td>0</td>\n",
              "      <td>1</td>\n",
              "      <td>0</td>\n",
              "      <td>0</td>\n",
              "      <td>0</td>\n",
              "      <td>0</td>\n",
              "      <td>1</td>\n",
              "      <td>0</td>\n",
              "      <td>0</td>\n",
              "      <td>0</td>\n",
              "      <td>0</td>\n",
              "      <td>1</td>\n",
              "      <td>0</td>\n",
              "      <td>0</td>\n",
              "      <td>0</td>\n",
              "      <td>0</td>\n",
              "      <td>1</td>\n",
              "      <td>0</td>\n",
              "      <td>0</td>\n",
              "      <td>0</td>\n",
              "      <td>0</td>\n",
              "      <td>1</td>\n",
              "      <td>0</td>\n",
              "      <td>0</td>\n",
              "      <td>0</td>\n",
              "      <td>0</td>\n",
              "      <td>1</td>\n",
              "      <td>0</td>\n",
              "      <td>0</td>\n",
              "      <td>0</td>\n",
              "      <td>0</td>\n",
              "      <td>1</td>\n",
              "      <td>0</td>\n",
              "      <td>0</td>\n",
              "      <td>0</td>\n",
              "      <td>0</td>\n",
              "    </tr>\n",
              "    <tr>\n",
              "      <th>1537</th>\n",
              "      <td>0</td>\n",
              "      <td>0</td>\n",
              "      <td>0</td>\n",
              "      <td>0</td>\n",
              "      <td>1</td>\n",
              "      <td>0</td>\n",
              "      <td>0</td>\n",
              "      <td>0</td>\n",
              "      <td>0</td>\n",
              "      <td>1</td>\n",
              "      <td>0</td>\n",
              "      <td>0</td>\n",
              "      <td>0</td>\n",
              "      <td>0</td>\n",
              "      <td>1</td>\n",
              "      <td>0</td>\n",
              "      <td>0</td>\n",
              "      <td>0</td>\n",
              "      <td>0</td>\n",
              "      <td>1</td>\n",
              "      <td>0</td>\n",
              "      <td>0</td>\n",
              "      <td>0</td>\n",
              "      <td>0</td>\n",
              "      <td>1</td>\n",
              "      <td>0</td>\n",
              "      <td>0</td>\n",
              "      <td>0</td>\n",
              "      <td>0</td>\n",
              "      <td>1</td>\n",
              "      <td>0</td>\n",
              "      <td>0</td>\n",
              "      <td>0</td>\n",
              "      <td>0</td>\n",
              "      <td>1</td>\n",
              "      <td>0</td>\n",
              "      <td>0</td>\n",
              "      <td>0</td>\n",
              "      <td>0</td>\n",
              "      <td>1</td>\n",
              "      <td>...</td>\n",
              "      <td>1</td>\n",
              "      <td>0</td>\n",
              "      <td>0</td>\n",
              "      <td>0</td>\n",
              "      <td>0</td>\n",
              "      <td>1</td>\n",
              "      <td>0</td>\n",
              "      <td>0</td>\n",
              "      <td>0</td>\n",
              "      <td>0</td>\n",
              "      <td>1</td>\n",
              "      <td>0</td>\n",
              "      <td>0</td>\n",
              "      <td>0</td>\n",
              "      <td>0</td>\n",
              "      <td>1</td>\n",
              "      <td>0</td>\n",
              "      <td>0</td>\n",
              "      <td>0</td>\n",
              "      <td>0</td>\n",
              "      <td>1</td>\n",
              "      <td>0</td>\n",
              "      <td>0</td>\n",
              "      <td>0</td>\n",
              "      <td>0</td>\n",
              "      <td>1</td>\n",
              "      <td>0</td>\n",
              "      <td>0</td>\n",
              "      <td>0</td>\n",
              "      <td>0</td>\n",
              "      <td>1</td>\n",
              "      <td>0</td>\n",
              "      <td>0</td>\n",
              "      <td>0</td>\n",
              "      <td>0</td>\n",
              "      <td>1</td>\n",
              "      <td>0</td>\n",
              "      <td>0</td>\n",
              "      <td>0</td>\n",
              "      <td>0</td>\n",
              "    </tr>\n",
              "  </tbody>\n",
              "</table>\n",
              "<p>5 rows × 12680 columns</p>\n",
              "</div>"
            ],
            "text/plain": [
              "      0_A  0_T  0_G  0_C  0_-  ...  29902_A  29902_T  29902_G  29902_C  29902_-\n",
              "1533    0    0    0    0    1  ...        0        0        0        0        1\n",
              "1534    0    0    0    0    1  ...        0        0        0        0        1\n",
              "1535    0    0    0    0    1  ...        0        0        0        0        1\n",
              "1536    0    0    0    0    1  ...        1        0        0        0        0\n",
              "1537    0    0    0    0    1  ...        1        0        0        0        0\n",
              "\n",
              "[5 rows x 12680 columns]"
            ]
          },
          "metadata": {
            "tags": []
          },
          "execution_count": 7
        }
      ]
    },
    {
      "cell_type": "markdown",
      "metadata": {
        "id": "VrC_ymFoSs_g"
      },
      "source": [
        "## Extract Label (Y)"
      ]
    },
    {
      "cell_type": "markdown",
      "metadata": {
        "id": "MfQVTqPhIYUr"
      },
      "source": [
        "We are going to use the region of the world that each sample came from as the **label**. ![alt text](https://upload.wikimedia.org/wikipedia/commons/3/3d/Flag-map_of_the_world_%282017%29.png)\n",
        "\n",
        "First, let's see how many samples we have from different countries."
      ]
    },
    {
      "cell_type": "code",
      "metadata": {
        "id": "pxL3w1MHFx0k",
        "colab": {
          "base_uri": "https://localhost:8080/"
        },
        "outputId": "2af18969-1519-4cf3-85e0-546cfaaced01"
      },
      "source": [
        "#@title ###**Exercise: Explore the different number of samples that come from each country.**\n",
        "country = \"Turkey\" #@param dict_keys(['China', 'Kazakhstan', 'India', 'Sri Lanka', 'Taiwan', 'Hong Kong', 'Viet Nam', 'Thailand', 'Nepal', 'Israel', 'South Korea', 'Iran', 'Pakistan', 'Turkey', 'Australia', 'USA']\n",
        "countries = [(s.description).split('|')[-1] for s in sequences]\n",
        "print(\"There are %i sequences from %s.\" %\n",
        "      (Counter(countries)[country], country))"
      ],
      "execution_count": null,
      "outputs": [
        {
          "output_type": "stream",
          "text": [
            "There are 1 sequences from Turkey.\n"
          ],
          "name": "stdout"
        }
      ]
    },
    {
      "cell_type": "markdown",
      "metadata": {
        "id": "0uu2QZpFdzGG"
      },
      "source": [
        "Since some countries only have a couple samples, we are going to use the **region** of the world as our labels.\n",
        "\n",
        "Since we have a large number of samples from Asia, North America, and Oceania, we will filter ours sequences to just these regions. We will convert our countries to regions using the code below.\n",
        "\n",
        "### **Exercise: Convert each country to its region of the world.**\n",
        "**Use the code below to create a dictionary of ```<country>```:```<region>``` where ```region``` is either ```'Oceania'```, ```'North America'```, or ```'Asia'```, and convert each country to region.**"
      ]
    },
    {
      "cell_type": "code",
      "metadata": {
        "id": "ODOhep8g8LCB",
        "cellView": "both"
      },
      "source": [
        "countries_to_regions_dict = {\n",
        "         'Australia': 'Oceania',\n",
        "         'China': 'Asia',\n",
        "         'Hong Kong': 'Asia' ,\n",
        "         'India': 'Asia' ,\n",
        "         'Nepal': 'Asia' ,\n",
        "         'South Korea': 'Asia' ,\n",
        "         'Sri Lanka': 'Asia' ,\n",
        "         'Taiwan': 'Asia' ,\n",
        "         'Thailand': 'Asia' ,\n",
        "         'USA': 'North America' ,\n",
        "         'Viet Nam': 'Asia'\n",
        "}\n",
        "\n",
        "regions = [countries_to_regions_dict[c] if c in\n",
        "           countries_to_regions_dict else 'NA' for c in countries]\n",
        "mutation_df['label'] = regions"
      ],
      "execution_count": null,
      "outputs": []
    },
    {
      "cell_type": "markdown",
      "metadata": {
        "id": "GXuNJGj0K94L"
      },
      "source": [
        "**Now see how many samples there are from each region of the world.**"
      ]
    },
    {
      "cell_type": "code",
      "metadata": {
        "id": "R8xUF_S-K809",
        "colab": {
          "base_uri": "https://localhost:8080/"
        },
        "outputId": "05b36755-7cf3-4fde-c1e8-b303a974a067"
      },
      "source": [
        "region = \"Asia\" #@param ['Oceania', 'North America', 'Asia']\n",
        "print(\"There are %i sequences from %s.\" %\n",
        "      (Counter(regions)[region], region))"
      ],
      "execution_count": null,
      "outputs": [
        {
          "output_type": "stream",
          "text": [
            "There are 152 sequences from Asia.\n"
          ],
          "name": "stdout"
        }
      ]
    },
    {
      "cell_type": "markdown",
      "metadata": {
        "id": "AxVN5LnFLX4X"
      },
      "source": [
        "## Balancing the Data\n"
      ]
    },
    {
      "cell_type": "markdown",
      "metadata": {
        "id": "rCfkZVGnkCLL"
      },
      "source": [
        "Recall that ML models work the best if we have *balanced* data- a dataset with equal numbers of samples with each label. Run the following code to remove duplicate samples from the dataset, and then balance the samples.\n",
        "\n",
        "### **Exercise: Balance the data equally between samples from Asia, Oceania, and North America**"
      ]
    },
    {
      "cell_type": "code",
      "metadata": {
        "id": "rsGQiLUzL0hI",
        "colab": {
          "base_uri": "https://localhost:8080/"
        },
        "outputId": "a0b5de80-d285-4744-9258-a8c7a20e5cef"
      },
      "source": [
        "balanced_df = mutation_df.copy()\n",
        "balanced_df['label'] = regions\n",
        "balanced_df = balanced_df[balanced_df.label!='NA']\n",
        "balanced_df = balanced_df.drop_duplicates()\n",
        "samples_north_america = balanced_df[balanced_df.label== 'North America']\n",
        "samples_oceania = balanced_df[balanced_df.label== 'Oceania']\n",
        "samples_asia = balanced_df[balanced_df.label== 'Asia']\n",
        "\n",
        "# Number of samples we will use from each region.\n",
        "n = min(len(samples_north_america), len(samples_oceania), len(samples_asia))\n",
        "        #### FILL IN ######,\n",
        "        ##### FILL IN ####)\n",
        "\n",
        "balanced_df = pd.concat([samples_north_america[:n],\n",
        "                    samples_asia[:n],\n",
        "                    samples_oceania[:n]])\n",
        "print(\"Number of samples in each region: \", Counter(balanced_df['label']))"
      ],
      "execution_count": null,
      "outputs": [
        {
          "output_type": "stream",
          "text": [
            "Number of samples in each region:  Counter({'North America': 128, 'Asia': 128, 'Oceania': 128})\n"
          ],
          "name": "stdout"
        }
      ]
    },
    {
      "cell_type": "markdown",
      "metadata": {
        "id": "EJBRsrulXnUG"
      },
      "source": [
        "# Logistic Regression Model"
      ]
    },
    {
      "cell_type": "markdown",
      "metadata": {
        "id": "rwZJYgOxQx11"
      },
      "source": [
        "***Congrats!***  We finally are done with preprocessing/cleaning our data! Although tedious, this is an important part of doing machine learning in biology. The data can be complex and messy, and if we don't do some cleaning up beforehand, our models will have poor performance.\n",
        "\n",
        "\n",
        "![](https://media.makeameme.org/created/we-did-it-3b3ac27d2a.jpg)\n",
        "\n",
        "\n",
        "Finally, run the code to set up a ```X``` feature matrix and a ```Y``` label list from our ```balanced_df```. You can explore the different values using the code below:"
      ]
    },
    {
      "cell_type": "code",
      "metadata": {
        "id": "p5Ebb7WuO1Oq",
        "colab": {
          "base_uri": "https://localhost:8080/"
        },
        "outputId": "3ffb8fc9-63af-4a00-d046-9e599fca336f"
      },
      "source": [
        "X = balanced_df.drop('label', 1)\n",
        "Y = balanced_df.label\n",
        "data = \"X (features)\" #@param ['X (features)', 'Y (label)']\n",
        "start = 1 #@param {type:'integer'}\n",
        "stop =  10#@param {type:'integer'}\n",
        "\n",
        "if start>=stop:print(\"Start must be < stop!\")\n",
        "else:\n",
        "  if data=='X (features)':\n",
        "    print(X.iloc[start:stop])\n",
        "  if data=='Y (label)':\n",
        "    print(Y[start:stop])"
      ],
      "execution_count": null,
      "outputs": [
        {
          "output_type": "stream",
          "text": [
            "     0_A  0_T  0_G  0_C  0_-  ...  29902_A  29902_T  29902_G  29902_C  29902_-\n",
            "323    1    0    0    0    0  ...        0        0        0        0        1\n",
            "324    0    0    1    0    0  ...        1        0        0        0        0\n",
            "325    1    0    0    0    0  ...        0        0        0        0        1\n",
            "326    1    0    0    0    0  ...        0        0        0        0        1\n",
            "327    0    0    1    0    0  ...        0        0        0        0        1\n",
            "328    1    0    0    0    0  ...        0        0        0        0        1\n",
            "329    1    0    0    0    0  ...        0        0        0        0        1\n",
            "330    1    0    0    0    0  ...        0        0        0        0        1\n",
            "331    1    0    0    0    0  ...        0        0        0        0        1\n",
            "\n",
            "[9 rows x 12680 columns]\n"
          ],
          "name": "stdout"
        }
      ]
    },
    {
      "cell_type": "markdown",
      "metadata": {
        "id": "rDviuy5wc3-e"
      },
      "source": [
        "In preparation for training and testing our model, we need to import two key functions:\n",
        "\n",
        "* `train_test_split()`, used to split the data into training and testing portions, and\n",
        "* `accuracy_score()`, for testing the accuracy of our model's predictions against the labels in our testing data.\n",
        "\n",
        "Run the next code block to import these functions!"
      ]
    },
    {
      "cell_type": "code",
      "metadata": {
        "id": "k2-pzKByc41O"
      },
      "source": [
        "from sklearn.model_selection import train_test_split\n",
        "from sklearn.metrics import accuracy_score"
      ],
      "execution_count": null,
      "outputs": []
    },
    {
      "cell_type": "markdown",
      "metadata": {
        "id": "F4fAOFq3iqFl"
      },
      "source": [
        "## Training"
      ]
    },
    {
      "cell_type": "markdown",
      "metadata": {
        "id": "PcksFwDLlOsE"
      },
      "source": [
        "We will be using the logistic regression model we have learned about with one modification. We will use the \"multinomial\" class of logistic regression model.  This is used when there are more than 2 categories in the label set. In our case, we have ```Asia```, ```North America```, and ```North America``` as our possible labels.\n",
        "\n",
        "### **Exercise: Train the model using the standard pipeline you have mastered!**"
      ]
    },
    {
      "cell_type": "code",
      "metadata": {
        "id": "qbxYkappX6Y6",
        "colab": {
          "base_uri": "https://localhost:8080/"
        },
        "outputId": "20ea899e-428e-41a9-92d5-f93d60e17f8c"
      },
      "source": [
        "lm = linear_model.LogisticRegression(\n",
        "    multi_class=\"multinomial\", max_iter=1000,\n",
        "    fit_intercept=False, tol=0.001, solver='saga', random_state=42)\n",
        "\n",
        "# Split into training/testing set. Use a training size of .8\n",
        "X_train, X_test, Y_train, Y_test = train_test_split(X, Y, test_size=0.2, random_state=101)\n",
        "\n",
        "lm.fit(X_train, Y_train)\n",
        "y_pred = lm.predict(X_test)\n",
        "accuracy = accuracy_score(Y_test, y_pred)\n",
        "print (accuracy)\n",
        "# Train/fit model\n",
        "#### FILL IN ########\n"
      ],
      "execution_count": null,
      "outputs": [
        {
          "output_type": "stream",
          "text": [
            "0.922077922077922\n"
          ],
          "name": "stdout"
        }
      ]
    },
    {
      "cell_type": "markdown",
      "metadata": {
        "id": "dEoMF1rGisxC"
      },
      "source": [
        "## Testing/Evaluation\n",
        "\n",
        "In addition to printing the accuracy of a model, we can also use a *confusion matrix* to see how well the model performed."
      ]
    },
    {
      "cell_type": "markdown",
      "metadata": {
        "id": "LXLmY1hfqGT7"
      },
      "source": [
        "###**Exercise: Evaluate the model on the test set.**\n"
      ]
    },
    {
      "cell_type": "code",
      "metadata": {
        "id": "JYGTYPopp5WR",
        "cellView": "both",
        "colab": {
          "base_uri": "https://localhost:8080/"
        },
        "outputId": "db0b6f42-cee6-4205-84da-90f7b3f2121f"
      },
      "source": [
        "# Predict on the test set.\n",
        "Y_pred = lm.predict(X_test)\n",
        "\n",
        "# Compute accuracy.\n",
        "accuracy = accuracy_score(Y_test, y_pred)\n",
        "print(\"Accuracy: %\", accuracy)\n",
        "\n",
        "# Compute confusion matrix.\n",
        "confusion_mat = pd.DataFrame(confusion_matrix(Y_test, Y_pred))\n",
        "confusion_mat.columns = [c + ' predicted' for c in lm.classes_]\n",
        "confusion_mat.index = [c + ' true' for c in lm.classes_]\n",
        "\n",
        "print(confusion_mat)"
      ],
      "execution_count": null,
      "outputs": [
        {
          "output_type": "stream",
          "text": [
            "Accuracy: % 0.922077922077922\n",
            "                    Asia predicted  North America predicted  Oceania predicted\n",
            "Asia true                       22                        2                  2\n",
            "North America true               1                       21                  0\n",
            "Oceania true                     1                        0                 28\n"
          ],
          "name": "stdout"
        }
      ]
    },
    {
      "cell_type": "markdown",
      "metadata": {
        "id": "0HwrfLGMKaG4"
      },
      "source": [
        "# Wrapping up"
      ]
    },
    {
      "cell_type": "markdown",
      "metadata": {
        "id": "2qcebZzBnhVd"
      },
      "source": [
        "![alt text](https://memecrunch.com/meme/60HHF/done-and-done/image.jpg)"
      ]
    },
    {
      "cell_type": "markdown",
      "metadata": {
        "id": "jAgFs2spqoHF"
      },
      "source": [
        "***Great job!*** You built a pretty accurate model that uses genomic data to predict what country a SARS-CoV-2 sample comes from."
      ]
    },
    {
      "cell_type": "code",
      "metadata": {
        "id": "dsiiqHD5qzOg"
      },
      "source": [
        "#@title #### **Exercise: To wrap up, write a couple of sentences explaining how your model performed.**\n",
        "Response = \"\" #@param {type:\"string\"}\n"
      ],
      "execution_count": null,
      "outputs": []
    }
  ]
}